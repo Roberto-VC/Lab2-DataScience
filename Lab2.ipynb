{
 "cells": [
  {
   "cell_type": "code",
   "execution_count": 50,
   "metadata": {},
   "outputs": [
    {
     "name": "stdout",
     "output_type": "stream",
     "text": [
      "(34799, 4)\n",
      "(34799,)\n",
      "(34799, 2)\n",
      "(34799, 32, 32, 3)\n"
     ]
    }
   ],
   "source": [
    "import pickle\n",
    "import pandas as pd\n",
    "import numpy as np\n",
    "import seaborn as sns\n",
    "from sklearn.preprocessing import LabelEncoder\n",
    "import matplotlib.pyplot as plt\n",
    "import tensorflow as tf\n",
    "from sklearn.model_selection import train_test_split\n",
    "from sklearn.preprocessing import StandardScaler\n",
    "from sklearn.preprocessing import LabelEncoder\n",
    "from keras.models import Sequential\n",
    "from keras.layers import Dense, BatchNormalization, GaussianDropout\n",
    "from tensorflow.keras import regularizers\n",
    "from tensorflow.keras.layers import Dense, Dropout, LeakyReLU, PReLU, ELU\n",
    "from sklearn.metrics import mean_squared_error, mean_absolute_error, r2_score\n",
    "from keras.layers import Activation\n",
    "\n",
    "# Load the dictionary from the pickle file\n",
    "with open('entrenamiento.p', 'rb') as file:\n",
    "    loaded_data = pickle.load(file)\n",
    "\n",
    "\n",
    "print(loaded_data[\"coords\"].shape)\n",
    "print(loaded_data[\"labels\"].shape)\n",
    "print(loaded_data[\"sizes\"].shape)\n",
    "print(loaded_data[\"features\"].shape)\n",
    "coefficients = np.array([0.299, 0.587, 0.114])\n",
    "grayscale_image_array = np.dot(loaded_data[\"features\"], coefficients).astype(np.uint8)\n",
    "\n"
   ]
  },
  {
   "cell_type": "code",
   "execution_count": null,
   "metadata": {},
   "outputs": [],
   "source": [
    "model = models.Sequential()\n",
    "    \n",
    "model.add(layers.Conv2D(6, kernel_size=(5, 5), strides=(1, 1), activation='tanh', input_shape=input_shape))\n",
    "model.add(layers.AveragePooling2D(pool_size=(2, 2), strides=(2, 2)))\n",
    "    \n",
    "model.add(layers.Conv2D(16, kernel_size=(5, 5), strides=(1, 1), activation='tanh'))\n",
    "model.add(layers.AveragePooling2D(pool_size=(2, 2), strides=(2, 2)))\n",
    "    \n",
    "model.add(layers.Flatten())\n",
    "model.add(layers.Dense(120, activation='tanh'))\n",
    "model.add(layers.Dense(84, activation='tanh'))\n",
    "model.add(layers.Dense(num_classes, activation='softmax'))"
   ]
  }
 ],
 "metadata": {
  "kernelspec": {
   "display_name": "Python 3",
   "language": "python",
   "name": "python3"
  },
  "language_info": {
   "codemirror_mode": {
    "name": "ipython",
    "version": 3
   },
   "file_extension": ".py",
   "mimetype": "text/x-python",
   "name": "python",
   "nbconvert_exporter": "python",
   "pygments_lexer": "ipython3",
   "version": "3.10.0"
  },
  "orig_nbformat": 4
 },
 "nbformat": 4,
 "nbformat_minor": 2
}
